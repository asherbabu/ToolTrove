{
 "cells": [
  {
   "cell_type": "code",
   "execution_count": null,
   "metadata": {},
   "outputs": [],
   "source": [
    "#IMPORT LIBRARIES HERE\n",
    "import cv2\n",
    "import img2pdf\n",
    "from PIL import Image, ImageEnhance"
   ]
  },
  {
   "cell_type": "code",
   "execution_count": null,
   "metadata": {},
   "outputs": [],
   "source": [
    "#Unit Converter"
   ]
  },
  {
   "cell_type": "code",
   "execution_count": null,
   "metadata": {},
   "outputs": [],
   "source": [
    "#QR Code Generator"
   ]
  },
  {
   "cell_type": "code",
   "execution_count": null,
   "metadata": {},
   "outputs": [],
   "source": [
    "#Image Enhancer\n",
    "def enhancingImg(filename):\n",
    "    #input_img = f\"Uploads/{filename}\"\n",
    "    #output_img = f\"Static/{filename}\"\n",
    "    #operation_type = \"ImageEnhance\"\n",
    "    print(f\"Image Enhancing for {filename}\")\n",
    "    OrginalImg = Image.open(f\"Uploads/{filename}\")\n",
    "    EnhancedImg = ImageEnhance.Color(OrginalImg).enhance(1.5)\n",
    "    EnhancedImg = ImageEnhance.Contrast(EnhancedImg).enhance(1.5)\n",
    "    EnhancedImg = ImageEnhance.Sharpness(EnhancedImg).enhance(1.5)\n",
    "    newfilename = f\"Static/{filename}\"\n",
    "    EnhancedImg.save(newfilename, \"JPEG\", optimize=True)\n",
    "    #cv2.imwrite(newfilename, EnhancedImg)\n",
    "    #sql_statement = \"INSERT INTO OPERATIONS (CDATE, CTIME, INPUT_IMG, OUTPUT_IMG, operation_type) VALUES (CURDATE(), NOW(), %s, %s, %s);\"\n",
    "    #my_cursor.execute(sql_statement, (input_img, output_img, operation_type))\n",
    "    return newfilename"
   ]
  },
  {
   "cell_type": "code",
   "execution_count": null,
   "metadata": {},
   "outputs": [],
   "source": [
    "#Image Compressor"
   ]
  },
  {
   "cell_type": "code",
   "execution_count": null,
   "metadata": {},
   "outputs": [],
   "source": [
    "#Image to Grayscale"
   ]
  },
  {
   "cell_type": "code",
   "execution_count": null,
   "metadata": {},
   "outputs": [],
   "source": [
    "#Image Converter"
   ]
  }
 ],
 "metadata": {
  "language_info": {
   "name": "python"
  }
 },
 "nbformat": 4,
 "nbformat_minor": 2
}
