{
 "cells": [
  {
   "cell_type": "code",
   "execution_count": 1,
   "metadata": {},
   "outputs": [],
   "source": [
    "#IMPORT LIBRARIES HERE\n",
    "import cv2\n",
    "import img2pdf\n",
    "from PIL import Image, ImageEnhance"
   ]
  },
  {
   "cell_type": "code",
   "execution_count": null,
   "metadata": {},
   "outputs": [],
   "source": [
    "#Unit Converter"
   ]
  },
  {
   "cell_type": "code",
   "execution_count": null,
   "metadata": {},
   "outputs": [],
   "source": [
    "#QR Code Generator"
   ]
  },
  {
   "cell_type": "code",
   "execution_count": null,
   "metadata": {},
   "outputs": [],
   "source": [
    "#Image Enhancer\n",
    "def enhancingImg(filename):\n",
    "    #input_img = f\"Uploads/{filename}\"\n",
    "    #output_img = f\"Static/{filename}\"\n",
    "    #operation_type = \"ImageEnhance\"\n",
    "    print(f\"Image Enhancing for {filename}\")\n",
    "    OrginalImg = Image.open(f\"Uploads/{filename}\")\n",
    "    EnhancedImg = ImageEnhance.Color(OrginalImg).enhance(1.5)\n",
    "    EnhancedImg = ImageEnhance.Contrast(EnhancedImg).enhance(1.5)\n",
    "    EnhancedImg = ImageEnhance.Sharpness(EnhancedImg).enhance(1.5)\n",
    "    newfilename = f\"Static/{filename}\"\n",
    "    EnhancedImg.save(newfilename, \"JPEG\", optimize=True)\n",
    "    #cv2.imwrite(newfilename, EnhancedImg)\n",
    "    #sql_statement = \"INSERT INTO OPERATIONS (CDATE, CTIME, INPUT_IMG, OUTPUT_IMG, operation_type) VALUES (CURDATE(), NOW(), %s, %s, %s);\"\n",
    "    #my_cursor.execute(sql_statement, (input_img, output_img, operation_type))\n",
    "    return newfilename"
   ]
  },
  {
   "cell_type": "code",
   "execution_count": null,
   "metadata": {},
   "outputs": [],
   "source": [
    "#Image Compressor"
   ]
  },
  {
   "cell_type": "code",
   "execution_count": null,
   "metadata": {},
   "outputs": [],
   "source": [
    "#Image to Grayscale\n",
    "def grayScale(filename):\n",
    "    #input_img = f\"Uploads/{filename}\"\n",
    "    #output_img = f\"Static/{filename}\"\n",
    "    #operation_type = \"grayscale\"\n",
    "    print(f\"Image Gray Scale for {filename}\")\n",
    "    img = cv2.imread(f\"Uploads/{filename}\")\n",
    "    imgProcessed = cv2.cvtColor(img, cv2.COLOR_BGR2GRAY)\n",
    "    newFilename = f\"Static/{filename}\"\n",
    "    cv2.imwrite(newFilename, imgProcessed)\n",
    "    #sql_statement = \"INSERT INTO OPERATIONS (CDATE, CTIME, INPUT_IMG, OUTPUT_IMG, operation_type) VALUES (CURDATE(), NOW(), %s, %s, %s);\"\n",
    "    #my_cursor.execute(sql_statement, (input_img, output_img, operation_type))\n",
    "    #mydb.commit()\n",
    "    return newFilename"
   ]
  },
  {
   "cell_type": "code",
   "execution_count": null,
   "metadata": {},
   "outputs": [],
   "source": [
    "#Image Converter\n",
    "def processImage(filename, operation):\n",
    "    print(f\"the operation is {operation} and file name is {filename}\")\n",
    "    img = cv2.imread(f\"Uploads/{filename}\")\n",
    "    #input_img = f\"Uploads/{filename}\"\n",
    "    #output_img = f\"Static/{filename}\"\n",
    "    match operation:\n",
    "        #case \"imgEnhance\":\n",
    "            #imgProcessed = cv2.cvtColor(img, cv2.COLOR_BGR2GRAY)\n",
    "            #OrginalImg = Image.open(f\"Uploads/{filename}\")\n",
    "            #EnhancedImg = ImageEnhance.Color(OrginalImg).enhance(1.5)\n",
    "            #EnhancedImg = ImageEnhance.Contrast(OrginalImg).enhance(1.5)\n",
    "            #EnhancedImg = ImageEnhance.Sharpness(OrginalImg).enhance(1.5)\n",
    "            #img.close()\n",
    "            #newfilename = f\"Static/{filename}\"\n",
    "            #cv2.imwrite(newfilename, EnhancedImg)\n",
    "            #EnhancedImg.save(newfilename)\n",
    "            #EnhancedImg.save(newfilename, optimize=True)\n",
    "            #EnhancedImg = open(newfilename, \"wb\")\n",
    "            #EnhancedImg.save(newfilename)\n",
    "            #return newfilename\n",
    "        case \"cwebp\":\n",
    "            #operation_type = \"Convert to WEBP\"\n",
    "            newfilename = f\"Static/{filename.split('.')[0]}.webp\"\n",
    "            cv2.imwrite(newfilename, img)\n",
    "            #sql_statement = \"INSERT INTO OPERATIONS (CDATE, CTIME, INPUT_IMG, OUTPUT_IMG, operation_type) VALUES (CURDATE(), NOW(), %s, %s, %s);\"\n",
    "            #my_cursor.execute(sql_statement, (input_img, output_img, operation_type))\n",
    "            #mydb.commit()\n",
    "            return newfilename\n",
    "        case \"cjpg\":\n",
    "            #operation_type = \"Convert to JPG\"\n",
    "            newfilename = f\"Static/{filename.split('.')[0]}.jpg\"\n",
    "            cv2.imwrite(newfilename, img)\n",
    "            #sql_statement = \"INSERT INTO OPERATIONS (CDATE, CTIME, INPUT_IMG, OUTPUT_IMG, operation_type) VALUES (CURDATE(), NOW(), %s, %s, %s);\"\n",
    "            #my_cursor.execute(sql_statement, (input_img, output_img, operation_type))\n",
    "            #mydb.commit()\n",
    "            return newfilename\n",
    "        case \"cpng\":\n",
    "            #operation_type = \"Convert to PNG\"\n",
    "            newfilename = f\"Static/{filename.split('.')[0]}.png\"\n",
    "            cv2.imwrite(newfilename, img)\n",
    "            #sql_statement = \"INSERT INTO OPERATIONS (CDATE, CTIME, INPUT_IMG, OUTPUT_IMG, operation_type) VALUES (CURDATE(), NOW(), %s, %s, %s);\"\n",
    "            #my_cursor.execute(sql_statement, (input_img, output_img, operation_type))\n",
    "            #mydb.commit()\n",
    "            return newfilename\n",
    "        case \"cpdf\":\n",
    "            #operation_type = \"Convert to PDF\"\n",
    "            img_path = f\"Uploads/{filename}\"\n",
    "            newfilename = f\"Static/{filename.split('.')[0]}.pdf\"\n",
    "            image = Image.open(img_path)\n",
    "            pdf_bytes = img2pdf.convert(image.filename)\n",
    "            file = open(newfilename, \"wb\")\n",
    "            file.write(pdf_bytes)\n",
    "            image.close()\n",
    "            file.close()\n",
    "            #sql_statement = \"INSERT INTO OPERATIONS (CDATE, CTIME, INPUT_IMG, OUTPUT_IMG, operation_type) VALUES (CURDATE(), NOW(), %s, %s, %s);\"\n",
    "            #my_cursor.execute(sql_statement, (input_img, output_img, operation_type))\n",
    "            #mydb.commit()\n",
    "            return newfilename\n",
    "    pass"
   ]
  }
 ],
 "metadata": {
  "kernelspec": {
   "display_name": "base",
   "language": "python",
   "name": "python3"
  },
  "language_info": {
   "codemirror_mode": {
    "name": "ipython",
    "version": 3
   },
   "file_extension": ".py",
   "mimetype": "text/x-python",
   "name": "python",
   "nbconvert_exporter": "python",
   "pygments_lexer": "ipython3",
   "version": "3.9.7"
  }
 },
 "nbformat": 4,
 "nbformat_minor": 2
}
