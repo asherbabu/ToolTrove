{
 "cells": [
  {
   "cell_type": "code",
   "execution_count": 2,
   "metadata": {},
   "outputs": [],
   "source": [
    "#IMPORT LIBRARIES HERE\n",
    "import cv2\n",
    "# import img2pdf\n",
    "from PIL import Image, ImageEnhance\n",
    "import qrcode\n",
    "import os\n",
    "#from pathlib import Path"
   ]
  },
  {
   "cell_type": "code",
   "execution_count": null,
   "metadata": {},
   "outputs": [],
   "source": [
    "#Unit Converter\n",
    "def unit_converter():\n",
    "    n=int(input(\"enter the unit: \"))\n",
    "    u=input(\"enter the unit: \") #dropbox : km,m,cm ,kg,g,l,ml,min,sec,hr,f,c\n",
    "    op=None\n",
    "    match u:\n",
    "        case \"km\":\n",
    "            con_unit=input(\"enter the unit that u want to convert to: \") #dropbox m,cm\n",
    "            if con_unit==\"meter\":\n",
    "                op=n*1000\n",
    "            else:\n",
    "                op=n*100000\n",
    "        case \"meter\":\n",
    "            con_unit=input(\"enter the unit that u want to convert to: \") #dropbox km,cm\n",
    "            if con_unit==\"km\":\n",
    "                op=n/1000\n",
    "            else:\n",
    "                op=n*100\n",
    "        case \"cm\":\n",
    "            con_unit=input(\"enter the unit that u want to convert to: \") #dropbox m,km\n",
    "            if con_unit==\"km\":\n",
    "                op=n/100000\n",
    "            else:\n",
    "                op=n/100\n",
    "        case \"kg\":\n",
    "            op=n*1000\n",
    "        case \"gram\":\n",
    "            op=n/1000\n",
    "        case \"litre\":\n",
    "            op=n*1000\n",
    "        case \"ml\":\n",
    "            op=n/1000\n",
    "        case \"min\":\n",
    "            con_unit=input(\"enter the unit that u want to convert to: \") #dropbox hr,sec\n",
    "            if con_unit==\"hr\":\n",
    "                op=n/60\n",
    "            else:\n",
    "                op=n*60\n",
    "        case \"hr\":\n",
    "            con_unit=input(\"enter the unit that u want to convert to: \") #dropbox min,sec\n",
    "            if con_unit==\"min\":\n",
    "                op=n*60\n",
    "            else:\n",
    "                op=(n*60)*60\n",
    "        case \"sec\":\n",
    "            con_unit=input(\"enter the unit that u want to convert to: \") #dropbox hr,min\n",
    "            if con_unit==\"hr\":\n",
    "                minutes=n/60\n",
    "                op=minutes/60\n",
    "            else:\n",
    "                op=n/60\n",
    "        case \"fahrenheit\":\n",
    "            con_unit=input(\"enter the unit that u want to convert to: \") #dropbox celsius,kelvin\n",
    "            if con_unit==\"kelvin\":\n",
    "                op=(n-32)*(5/9)+273.15\n",
    "            else:\n",
    "                op=(n-32)*(5/9)\n",
    "        case \"celsius\":\n",
    "            con_unit=input(\"enter the unit that u want to convert to: \") #dropbox fahrenheit,kelvin\n",
    "            if con_unit==\"kelvin\":\n",
    "                op=n+273.15\n",
    "            else:\n",
    "                op=(n*(9/5))+32\n",
    "        case \"kelvin\":\n",
    "            con_unit=input(\"enter the unit that u want to convert to: \") #dropbox celsius,kelvin\n",
    "            if con_unit==\"fahrenheit\":\n",
    "                op=n-273.15*(9/5)+32\n",
    "            else:\n",
    "                op=n-273.15\n",
    "    return op\n",
    "\n",
    "result=unit_converter()\n",
    "print(result)"
   ]
  },
  {
   "cell_type": "code",
   "execution_count": null,
   "metadata": {},
   "outputs": [],
   "source": []
  },
  {
   "cell_type": "code",
   "execution_count": 8,
   "metadata": {},
   "outputs": [],
   "source": [
    "#QR Code Generator\n",
    "#import qrcode\n",
    "#import os\n",
    "#from pathlib import Path\n",
    "\n",
    "qr = qrcode.QRCode(\n",
    "    version=1,\n",
    "    error_correction=qrcode.constants.ERROR_CORRECT_L,\n",
    "    box_size=10,\n",
    "    border=4,\n",
    ")\n",
    "data=input(\"link for qrcode: \")\n",
    "qr.add_data(data)\n",
    "qr.make(fit=True)\n",
    "img = qr.make_image(fill_color=\"black\", back_color=\"white\")\n",
    "download_folder = str(Path.home() / \"Downloads\")\n",
    "img.save(os.path.join(download_folder, \"qr_code.png\"))"
   ]
  },
  {
   "cell_type": "code",
   "execution_count": 3,
   "metadata": {},
   "outputs": [],
   "source": [
    "def qrcodeimg(link):\n",
    "    qr = qrcode.QRCode(\n",
    "        version=1,\n",
    "        error_correction=qrcode.constants.ERROR_CORRECT_L,\n",
    "        box_size=10,\n",
    "        border=4\n",
    "    )\n",
    "    qr.add_data(link)\n",
    "    qr.make(fit=True)\n",
    "    img = qr.make_image(fill_color=\"#1e3e77\", back_color=\"white\")\n",
    "    img.show()\n",
    "    img.save(\"qr_code.png\")\n",
    "\n",
    "\n",
    "qrcodeimg(\"https://www.google.com/maps/place/Cathedral+Church+of+The+Redemption+(C.N.I.)/@28.6179611,77.1994362,17z/data=!3m1!4b1!4m6!3m5!1s0x390ce2ac43f5bda1:0xb45d11931a51b513!8m2!3d28.6179611!4d77.2020111!16s%2Fm%2F0dgqt4w?entry=ttu&g_ep=EgoyMDI0MTEyNC4xIKXMDSoJLDEwMjExMjMzSAFQAw%3D%3D\")"
   ]
  },
  {
   "cell_type": "code",
   "execution_count": null,
   "metadata": {},
   "outputs": [],
   "source": [
    "#Image Enhancer function\n",
    "def enhancingImg(filename):\n",
    "    #input_img = f\"Uploads/{filename}\"\n",
    "    #output_img = f\"Static/{filename}\"\n",
    "    #operation_type = \"ImageEnhance\"\n",
    "    print(f\"Image Enhancing for {filename}\")\n",
    "    OrginalImg = Image.open(f\"Uploads/{filename}\")\n",
    "    EnhancedImg = ImageEnhance.Color(OrginalImg).enhance(1.5)\n",
    "    EnhancedImg = ImageEnhance.Contrast(EnhancedImg).enhance(1.5)\n",
    "    EnhancedImg = ImageEnhance.Sharpness(EnhancedImg).enhance(1.5)\n",
    "    newfilename = f\"Static/Output/{filename}\"\n",
    "    EnhancedImg.save(newfilename, \"JPEG\", optimize=True)\n",
    "    #cv2.imwrite(newfilename, EnhancedImg)\n",
    "    #sql_statement = \"INSERT INTO OPERATIONS (CDATE, CTIME, INPUT_IMG, OUTPUT_IMG, operation_type) VALUES (CURDATE(), NOW(), %s, %s, %s);\"\n",
    "    #my_cursor.execute(sql_statement, (input_img, output_img, operation_type))\n",
    "    return newfilename"
   ]
  },
  {
   "cell_type": "code",
   "execution_count": null,
   "metadata": {},
   "outputs": [],
   "source": [
    "#Image Compressor function"
   ]
  },
  {
   "cell_type": "code",
   "execution_count": null,
   "metadata": {},
   "outputs": [],
   "source": [
    "#Image to Grayscale fucntion\n",
    "def grayScale(filename):\n",
    "    #input_img = f\"Uploads/{filename}\"\n",
    "    #output_img = f\"Static/{filename}\"\n",
    "    #operation_type = \"grayscale\"\n",
    "    print(f\"Image Gray Scale for {filename}\")\n",
    "    img = cv2.imread(f\"Uploads/{filename}\")\n",
    "    imgProcessed = cv2.cvtColor(img, cv2.COLOR_BGR2GRAY)\n",
    "    newFilename = f\"Static/Output/{filename}\"\n",
    "    cv2.imwrite(newFilename, imgProcessed)\n",
    "    #sql_statement = \"INSERT INTO OPERATIONS (CDATE, CTIME, INPUT_IMG, OUTPUT_IMG, operation_type) VALUES (CURDATE(), NOW(), %s, %s, %s);\"\n",
    "    #my_cursor.execute(sql_statement, (input_img, output_img, operation_type))\n",
    "    #mydb.commit()\n",
    "    return newFilename"
   ]
  },
  {
   "cell_type": "code",
   "execution_count": 6,
   "metadata": {},
   "outputs": [
    {
     "ename": "IndentationError",
     "evalue": "unindent does not match any outer indentation level (<tokenize>, line 16)",
     "output_type": "error",
     "traceback": [
      "\u001b[1;36m  File \u001b[1;32m\"<tokenize>\"\u001b[1;36m, line \u001b[1;32m16\u001b[0m\n\u001b[1;33m    case \"cjpg\":\u001b[0m\n\u001b[1;37m    ^\u001b[0m\n\u001b[1;31mIndentationError\u001b[0m\u001b[1;31m:\u001b[0m unindent does not match any outer indentation level\n"
     ]
    }
   ],
   "source": [
    "#Image Converter function\n",
    "def processImage(filename, operation):\n",
    "    print(f\"the operation is {operation} and file name is {filename}\")\n",
    "    img = cv2.imread(f\"Uploads/{filename}\")\n",
    "    #input_img = f\"Uploads/{filename}\"\n",
    "    #output_img = f\"Static/{filename}\"\n",
    "    match operation:\n",
    "        case \"cwebp\":\n",
    "            newfilename = f\"Static/{filename.split('.')[0]}.webp\"\n",
    "            cv2.imwrite(newfilename, img)\n",
    "            return newfilename\n",
    "        case \"cjpg\":\n",
    "            newfilename = f\"Static/{filename.split('.')[0]}.jpg\"\n",
    "            cv2.imwrite(newfilename, img)\n",
    "            return newfilename\n",
    "        case \"cpng\":\n",
    "            newfilename = f\"Static/{filename.split('.')[0]}.png\"\n",
    "            cv2.imwrite(newfilename, img)\n",
    "            return newfilename\n",
    "        case \"cpdf\":\n",
    "            img_path = f\"Uploads/{filename}\"\n",
    "            newfilename = f\"Static/{filename.split('.')[0]}.pdf\"\n",
    "            image = Image.open(img_path)\n",
    "            pdf_bytes = img2pdf.convert(image.filename)\n",
    "            file = open(newfilename, \"wb\")\n",
    "            file.write(pdf_bytes)\n",
    "            image.close()\n",
    "            file.close()\n",
    "            return newfilename\n",
    "    pass"
   ]
  },
  {
   "cell_type": "code",
   "execution_count": 1,
   "metadata": {},
   "outputs": [
    {
     "name": "stdout",
     "output_type": "stream",
     "text": [
      "[2, 4, 6, 8, 10]\n",
      "[2, 4]\n",
      "15\n"
     ]
    }
   ],
   "source": [
    "from functools import reduce\n",
    "\n",
    "numbers = [1, 2, 3, 4, 5]\n",
    "\n",
    "doubled = list(map(lambda x: x * 2, numbers))\n",
    "print(doubled)\n",
    "\n",
    "evens = list(filter(lambda x: x % 2 == 0, numbers))\n",
    "print(evens)\n",
    "\n",
    "total = reduce(lambda x, y: x + y, numbers)\n",
    "print(total)\n"
   ]
  },
  {
   "cell_type": "code",
   "execution_count": null,
   "metadata": {},
   "outputs": [],
   "source": []
  }
 ],
 "metadata": {
  "kernelspec": {
   "display_name": "Python 3",
   "language": "python",
   "name": "python3"
  },
  "language_info": {
   "codemirror_mode": {
    "name": "ipython",
    "version": 3
   },
   "file_extension": ".py",
   "mimetype": "text/x-python",
   "name": "python",
   "nbconvert_exporter": "python",
   "pygments_lexer": "ipython3",
   "version": "3.12.3"
  }
 },
 "nbformat": 4,
 "nbformat_minor": 2
}
